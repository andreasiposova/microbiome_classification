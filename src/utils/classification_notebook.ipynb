{
 "cells": [
  {
   "cell_type": "code",
   "execution_count": 1,
   "metadata": {
    "scrolled": true
   },
   "outputs": [],
   "source": [
    "import numpy as np\n",
    "import pandas as pd\n",
    "import os\n",
    "import sklearn\n",
    "import skopt\n",
    "\n",
    "from sklearn.ensemble import RandomForestClassifier\n",
    "from sklearn.model_selection import cross_validate, RepeatedStratifiedKFold, train_test_split\n",
    "\n",
    "from utils import load_training_dataset, setup_logging\n",
    "from sklearn.pipeline import Pipeline\n",
    "\n",
    "from sklearn.model_selection import RepeatedStratifiedKFold\n",
    "from sklearn.ensemble import RandomForestClassifier\n",
    "from skopt import BayesSearchCV\n",
    "from skopt.space import Integer, Categorical\n",
    "import pandas as pd\n",
    "\n",
    "\n",
    "from sklearn import preprocessing\n",
    "from sklearn.metrics import precision_recall_fscore_support\n",
    "from sklearn.metrics import accuracy_score\n",
    "from sklearn.metrics import confusion_matrix\n",
    "from sklearn.metrics import roc_auc_score\n",
    "from sklearn.metrics import f1_score\n"
   ]
  },
  {
   "cell_type": "code",
   "execution_count": 2,
   "metadata": {},
   "outputs": [],
   "source": [
    "fudan_filepath = 'data/Yang_PRJNA763023/Yang_PRJNA763023_SE/parsed/normalized_results/'"
   ]
  },
  {
   "cell_type": "code",
   "execution_count": 5,
   "metadata": {},
   "outputs": [],
   "source": [
    "def load_tsv_files(folder):\n",
    "    # Initialize an empty dictionary to store the variables\n",
    "    var_dict = {}\n",
    "    \n",
    "    # Iterate over the files in the folder\n",
    "    for file in os.listdir(folder):\n",
    "        # Only consider files with the '.tsv' extension\n",
    "        if file.endswith('.tsv'):\n",
    "            # Load the data into a pandas DataFrame\n",
    "            df = pd.read_csv(os.path.join(folder, file), sep='\\t') # skiprows=1\n",
    "            if len(df.columns) == 1:\n",
    "                df = pd.read_csv(os.path.join(folder, file), sep='\\t', skiprows=1)\n",
    "                df = df.transpose()\n",
    "                df.columns = df.iloc[0]\n",
    "                df.drop(index=df.index[0], axis=0, inplace=True)\n",
    "                #print(file)\n",
    "            else:\n",
    "                #print(file)\n",
    "                columnNames = df.columns.tolist()\n",
    "                firstColName = columnNames[0]\n",
    "                df.set_index(firstColName, inplace=True)\n",
    "            # Get the file name without the '.tsv' extension\n",
    "            name = os.path.splitext(file)[0]\n",
    "            \n",
    "            # Assign the DataFrame to a variable with the file name\n",
    "            globals()[name] = df\n",
    "            \n",
    "            # Add the variable to the dictionary with the file name as the key\n",
    "            var_dict[name] = globals()[name]\n",
    "    \n",
    "    # Return the dictionary of variables\n",
    "    return var_dict"
   ]
  },
  {
   "cell_type": "code",
   "execution_count": 6,
   "metadata": {},
   "outputs": [],
   "source": [
    "def load_data(filepath):\n",
    "\n",
    "    data_files = load_tsv_files(filepath)\n",
    "\n",
    "    for key, value in data_files.items():\n",
    "        globals()[key] = value"
   ]
  },
  {
   "cell_type": "code",
   "execution_count": 7,
   "metadata": {},
   "outputs": [],
   "source": [
    "load_data(fudan_filepath)"
   ]
  },
  {
   "cell_type": "code",
   "execution_count": 8,
   "metadata": {
    "scrolled": true
   },
   "outputs": [],
   "source": [
    "global_vars = globals()"
   ]
  },
  {
   "cell_type": "code",
   "execution_count": 9,
   "metadata": {},
   "outputs": [],
   "source": [
    "file_names = list((\"pielou_e_diversity\", \"simpson_diversity\", \"phylum_relative\", \"observed_otus_diversity\", \"family_relative\",\n",
    "\"class_relative\", \"fb_ratio\", \"enterotype\", \"genus_relative\", \"species_relative\", \"shannon_diversity\", \"domain_relative\",\n",
    "\"order_relative\", \"simpson_e_diversity\"))"
   ]
  },
  {
   "cell_type": "code",
   "execution_count": 10,
   "metadata": {},
   "outputs": [],
   "source": [
    "def load_metadata(filepath):\n",
    "    data = pd.read_csv(filepath, sep=\",\", usecols=[\"Run\", \"disease_stat\"])\n",
    "    data.set_index('Run', inplace=True)\n",
    "    return data"
   ]
  },
  {
   "cell_type": "code",
   "execution_count": 11,
   "metadata": {},
   "outputs": [],
   "source": [
    "yang_metadata = load_metadata(\"data/Yang_PRJNA763023/metadata.csv\")"
   ]
  },
  {
   "cell_type": "code",
   "execution_count": 12,
   "metadata": {},
   "outputs": [],
   "source": [
    "def preprocess_data(file_name):\n",
    "    dataset = globals()[file_name]\n",
    "    #print(file_name)\n",
    "    data = dataset.join(yang_metadata)\n",
    "    X = data.iloc[:, :-1]\n",
    "    y = data.iloc[:, -1]\n",
    "\n",
    "    X_train, X_test, y_train, y_test = train_test_split(X, y, test_size=0.3, random_state=1234)\n",
    "\n",
    "    for col in X.columns:\n",
    "        #find max value of column\n",
    "        max_value_train = np.nanmax(X[col][X[col] != np.inf])\n",
    "        #replace inf and -inf in column with max value of column \n",
    "        X[col].replace([np.inf, -np.inf], max_value_train, inplace=True)\n",
    "        #drop the inf values from the test set\n",
    "        X = X.replace([np.inf, -np.inf], np.nan).dropna()\n",
    "    #get the respective y when we drop observations from the test set\n",
    "    y = y[y.index.isin(X.index)]\n",
    "\n",
    "    #labelEncoder\n",
    "    le = preprocessing.LabelEncoder()\n",
    "    le.fit(y)\n",
    "    y = le.transform(y)\n",
    "    #y_test = le.transform(y_test)\n",
    "    \n",
    "    \n",
    "        \n",
    "    return X, y #X_train, X_test, y_train, y_test\n",
    "\n",
    "def rf_classification(file_name):\n",
    "    X_train, X_test, y_train, y_test = preprocess_data(file_name)\n",
    "    clf = RandomForestClassifier(n_estimators= 200, max_depth=40, random_state=1234, class_weight={1: 1})\n",
    "    clf.fit(X_train, y_train)\n",
    "    y_pred = clf.predict(X_test)\n",
    "    #nu = np.unique(y_test, return_counts=True)\n",
    "    p_r_f1_support = precision_recall_fscore_support(y_test, y_pred, average='macro')\n",
    "    acc = accuracy_score(y_test, y_pred)\n",
    "    cm = confusion_matrix(y_test, y_pred)\n",
    "    roc_auc = roc_auc_score(y_test, y_pred)\n",
    "    f1 = f1_score(y_test, y_pred)\n",
    "    print('The results for ' + file_name + \" are: accuracy \" + str(acc) + \", conf.mat.:\" + str(cm) + \", roc auc:\" + str(roc_auc) + \", precision, recall, f1:\" + str(p_r_f1_support))\n",
    "    return y_pred"
   ]
  },
  {
   "cell_type": "code",
   "execution_count": null,
   "metadata": {},
   "outputs": [
    {
     "name": "stderr",
     "output_type": "stream",
     "text": [
      "NumExpr defaulting to 8 threads.\n"
     ]
    },
    {
     "name": "stdout",
     "output_type": "stream",
     "text": [
      "Fitting 50 folds for each of 1 candidates, totalling 50 fits\n"
     ]
    },
    {
     "name": "stderr",
     "output_type": "stream",
     "text": [
      "/home/andrea/anaconda3/lib/python3.7/site-packages/pandas/core/series.py:4569: SettingWithCopyWarning: \n",
      "A value is trying to be set on a copy of a slice from a DataFrame\n",
      "\n",
      "See the caveats in the documentation: https://pandas.pydata.org/pandas-docs/stable/user_guide/indexing.html#returning-a-view-versus-a-copy\n",
      "  method=method,\n"
     ]
    },
    {
     "name": "stdout",
     "output_type": "stream",
     "text": [
      "Fitting 50 folds for each of 1 candidates, totalling 50 fits\n",
      "Fitting 50 folds for each of 1 candidates, totalling 50 fits\n",
      "Fitting 50 folds for each of 1 candidates, totalling 50 fits\n",
      "Fitting 50 folds for each of 1 candidates, totalling 50 fits\n",
      "Fitting 50 folds for each of 1 candidates, totalling 50 fits\n",
      "Fitting 50 folds for each of 1 candidates, totalling 50 fits\n",
      "Fitting 50 folds for each of 1 candidates, totalling 50 fits\n",
      "Fitting 50 folds for each of 1 candidates, totalling 50 fits\n",
      "Fitting 50 folds for each of 1 candidates, totalling 50 fits\n",
      "Fitting 50 folds for each of 1 candidates, totalling 50 fits\n",
      "Fitting 50 folds for each of 1 candidates, totalling 50 fits\n",
      "Fitting 50 folds for each of 1 candidates, totalling 50 fits\n",
      "Fitting 50 folds for each of 1 candidates, totalling 50 fits\n",
      "Fitting 50 folds for each of 1 candidates, totalling 50 fits\n",
      "Fitting 50 folds for each of 1 candidates, totalling 50 fits\n",
      "Fitting 50 folds for each of 1 candidates, totalling 50 fits\n",
      "Fitting 50 folds for each of 1 candidates, totalling 50 fits\n",
      "Fitting 50 folds for each of 1 candidates, totalling 50 fits\n",
      "Fitting 50 folds for each of 1 candidates, totalling 50 fits\n",
      "Fitting 50 folds for each of 1 candidates, totalling 50 fits\n",
      "Fitting 50 folds for each of 1 candidates, totalling 50 fits\n",
      "Fitting 50 folds for each of 1 candidates, totalling 50 fits\n",
      "Fitting 50 folds for each of 1 candidates, totalling 50 fits\n",
      "Fitting 50 folds for each of 1 candidates, totalling 50 fits\n",
      "Fitting 50 folds for each of 1 candidates, totalling 50 fits\n",
      "Fitting 50 folds for each of 1 candidates, totalling 50 fits\n",
      "Fitting 50 folds for each of 1 candidates, totalling 50 fits\n",
      "Fitting 50 folds for each of 1 candidates, totalling 50 fits\n",
      "Fitting 50 folds for each of 1 candidates, totalling 50 fits\n",
      "Fitting 50 folds for each of 1 candidates, totalling 50 fits\n"
     ]
    },
    {
     "name": "stderr",
     "output_type": "stream",
     "text": [
      "/home/andrea/anaconda3/lib/python3.7/site-packages/skopt/optimizer/optimizer.py:449: UserWarning: The objective has been evaluated at this point before.\n",
      "  warnings.warn(\"The objective has been evaluated \"\n"
     ]
    },
    {
     "name": "stdout",
     "output_type": "stream",
     "text": [
      "Fitting 50 folds for each of 1 candidates, totalling 50 fits\n",
      "Fitting 50 folds for each of 1 candidates, totalling 50 fits\n",
      "Fitting 50 folds for each of 1 candidates, totalling 50 fits\n",
      "Fitting 50 folds for each of 1 candidates, totalling 50 fits\n",
      "Fitting 50 folds for each of 1 candidates, totalling 50 fits\n",
      "Fitting 50 folds for each of 1 candidates, totalling 50 fits\n",
      "Fitting 50 folds for each of 1 candidates, totalling 50 fits\n",
      "Fitting 50 folds for each of 1 candidates, totalling 50 fits\n",
      "Fitting 50 folds for each of 1 candidates, totalling 50 fits\n"
     ]
    },
    {
     "name": "stderr",
     "output_type": "stream",
     "text": [
      "/home/andrea/anaconda3/lib/python3.7/site-packages/skopt/optimizer/optimizer.py:449: UserWarning: The objective has been evaluated at this point before.\n",
      "  warnings.warn(\"The objective has been evaluated \"\n"
     ]
    },
    {
     "name": "stdout",
     "output_type": "stream",
     "text": [
      "Fitting 50 folds for each of 1 candidates, totalling 50 fits\n",
      "Fitting 50 folds for each of 1 candidates, totalling 50 fits\n",
      "Fitting 50 folds for each of 1 candidates, totalling 50 fits\n",
      "Fitting 50 folds for each of 1 candidates, totalling 50 fits\n",
      "Fitting 50 folds for each of 1 candidates, totalling 50 fits\n",
      "Fitting 50 folds for each of 1 candidates, totalling 50 fits\n",
      "Fitting 50 folds for each of 1 candidates, totalling 50 fits\n",
      "Fitting 50 folds for each of 1 candidates, totalling 50 fits\n",
      "Fitting 50 folds for each of 1 candidates, totalling 50 fits\n",
      "Fitting 50 folds for each of 1 candidates, totalling 50 fits\n"
     ]
    },
    {
     "name": "stderr",
     "output_type": "stream",
     "text": [
      "Scoring: accuracy\n",
      "Best score: 0.5100103920642418\n",
      "best params: OrderedDict([('model__max_depth', 100), ('model__max_features', None), ('model__min_samples_leaf', 5), ('model__min_samples_split', 20), ('model__n_estimators', 10)])\n",
      "CV results:\n",
      "                                                                                                                                                params  mean_test_score  std_test_score  rank_test_score\n",
      "37   {'model__max_depth': 100, 'model__max_features': 'log2', 'model__min_samples_leaf': 5, 'model__min_samples_split': 20, 'model__n_estimators': 10}         0.510010        0.035000                1\n",
      "28     {'model__max_depth': 100, 'model__max_features': None, 'model__min_samples_leaf': 5, 'model__min_samples_split': 20, 'model__n_estimators': 10}         0.510010        0.035000                1\n",
      "47    {'model__max_depth': 50, 'model__max_features': 'log2', 'model__min_samples_leaf': 5, 'model__min_samples_split': 20, 'model__n_estimators': 10}         0.510010        0.035000                1\n",
      "31     {'model__max_depth': 100, 'model__max_features': None, 'model__min_samples_leaf': 5, 'model__min_samples_split': 20, 'model__n_estimators': 10}         0.510010        0.035000                1\n",
      "40   {'model__max_depth': 100, 'model__max_features': 'log2', 'model__min_samples_leaf': 5, 'model__min_samples_split': 20, 'model__n_estimators': 10}         0.510010        0.035000                1\n",
      "48    {'model__max_depth': 90, 'model__max_features': 'sqrt', 'model__min_samples_leaf': 5, 'model__min_samples_split': 19, 'model__n_estimators': 10}         0.509589        0.037289                6\n",
      "35    {'model__max_depth': 100, 'model__max_features': 'log2', 'model__min_samples_leaf': 5, 'model__min_samples_split': 2, 'model__n_estimators': 10}         0.509186        0.032798                7\n",
      "21    {'model__max_depth': 100, 'model__max_features': 'log2', 'model__min_samples_leaf': 5, 'model__min_samples_split': 8, 'model__n_estimators': 10}         0.509186        0.032798                7\n",
      "44     {'model__max_depth': 10, 'model__max_features': 'sqrt', 'model__min_samples_leaf': 5, 'model__min_samples_split': 9, 'model__n_estimators': 10}         0.509183        0.031641                9\n",
      "15       {'model__max_depth': 70, 'model__max_features': None, 'model__min_samples_leaf': 5, 'model__min_samples_split': 2, 'model__n_estimators': 12}         0.509179        0.033062               10\n",
      "16     {'model__max_depth': 100, 'model__max_features': None, 'model__min_samples_leaf': 5, 'model__min_samples_split': 18, 'model__n_estimators': 10}         0.509046        0.035956               11\n",
      "38  {'model__max_depth': None, 'model__max_features': 'log2', 'model__min_samples_leaf': 5, 'model__min_samples_split': 18, 'model__n_estimators': 10}         0.509046        0.035956               11\n",
      "23     {'model__max_depth': 100, 'model__max_features': None, 'model__min_samples_leaf': 4, 'model__min_samples_split': 16, 'model__n_estimators': 10}         0.508761        0.036465               13\n",
      "9       {'model__max_depth': 10, 'model__max_features': None, 'model__min_samples_leaf': 2, 'model__min_samples_split': 20, 'model__n_estimators': 74}         0.507684        0.025955               14\n",
      "41    {'model__max_depth': 10, 'model__max_features': 'sqrt', 'model__min_samples_leaf': 4, 'model__min_samples_split': 15, 'model__n_estimators': 97}         0.507542        0.033163               15\n",
      "5     {'model__max_depth': 80, 'model__max_features': 'sqrt', 'model__min_samples_leaf': 4, 'model__min_samples_split': 11, 'model__n_estimators': 32}         0.506853        0.033959               16\n",
      "12  {'model__max_depth': None, 'model__max_features': 'log2', 'model__min_samples_leaf': 5, 'model__min_samples_split': 20, 'model__n_estimators': 66}         0.506841        0.031484               17\n",
      "10    {'model__max_depth': 100, 'model__max_features': 'sqrt', 'model__min_samples_leaf': 4, 'model__min_samples_split': 2, 'model__n_estimators': 10}         0.506835        0.036846               18\n",
      "24   {'model__max_depth': None, 'model__max_features': 'sqrt', 'model__min_samples_leaf': 5, 'model__min_samples_split': 2, 'model__n_estimators': 11}         0.506716        0.032645               19\n",
      "3     {'model__max_depth': 90, 'model__max_features': 'sqrt', 'model__min_samples_leaf': 2, 'model__min_samples_split': 19, 'model__n_estimators': 21}         0.506710        0.030676               20\n",
      "19     {'model__max_depth': None, 'model__max_features': None, 'model__min_samples_leaf': 5, 'model__min_samples_split': 2, 'model__n_estimators': 80}         0.506449        0.030000               21\n",
      "45       {'model__max_depth': 30, 'model__max_features': None, 'model__min_samples_leaf': 4, 'model__min_samples_split': 5, 'model__n_estimators': 12}         0.506430        0.035574               22\n",
      "27       {'model__max_depth': 90, 'model__max_features': None, 'model__min_samples_leaf': 5, 'model__min_samples_split': 7, 'model__n_estimators': 23}         0.506305        0.031824               23\n",
      "13   {'model__max_depth': 100, 'model__max_features': 'log2', 'model__min_samples_leaf': 5, 'model__min_samples_split': 11, 'model__n_estimators': 79}         0.506037        0.031517               24\n",
      "22   {'model__max_depth': 100, 'model__max_features': 'sqrt', 'model__min_samples_leaf': 5, 'model__min_samples_split': 20, 'model__n_estimators': 82}         0.506017        0.032092               25\n",
      "29      {'model__max_depth': 80, 'model__max_features': None, 'model__min_samples_leaf': 1, 'model__min_samples_split': 20, 'model__n_estimators': 16}         0.505894        0.034763               26\n",
      "43   {'model__max_depth': 80, 'model__max_features': 'sqrt', 'model__min_samples_leaf': 5, 'model__min_samples_split': 16, 'model__n_estimators': 100}         0.505746        0.031234               27\n",
      "1     {'model__max_depth': 40, 'model__max_features': 'sqrt', 'model__min_samples_leaf': 4, 'model__min_samples_split': 20, 'model__n_estimators': 68}         0.505613        0.031626               28\n",
      "25   {'model__max_depth': 100, 'model__max_features': 'sqrt', 'model__min_samples_leaf': 5, 'model__min_samples_split': 13, 'model__n_estimators': 10}         0.505190        0.034102               29\n",
      "33       {'model__max_depth': 90, 'model__max_features': None, 'model__min_samples_leaf': 4, 'model__min_samples_split': 2, 'model__n_estimators': 92}         0.504798        0.030207               30\n",
      "30     {'model__max_depth': 100, 'model__max_features': None, 'model__min_samples_leaf': 3, 'model__min_samples_split': 20, 'model__n_estimators': 91}         0.504663        0.031200               31\n",
      "0     {'model__max_depth': 40, 'model__max_features': 'log2', 'model__min_samples_leaf': 2, 'model__min_samples_split': 17, 'model__n_estimators': 74}         0.504515        0.027882               32\n",
      "36  {'model__max_depth': None, 'model__max_features': 'sqrt', 'model__min_samples_leaf': 1, 'model__min_samples_split': 20, 'model__n_estimators': 93}         0.504375        0.029030               33\n",
      "18   {'model__max_depth': 100, 'model__max_features': 'log2', 'model__min_samples_leaf': 1, 'model__min_samples_split': 20, 'model__n_estimators': 71}         0.504248        0.029658               34\n",
      "2     {'model__max_depth': 30, 'model__max_features': 'log2', 'model__min_samples_leaf': 1, 'model__min_samples_split': 17, 'model__n_estimators': 21}         0.504105        0.033164               35\n",
      "26    {'model__max_depth': 90, 'model__max_features': 'log2', 'model__min_samples_leaf': 3, 'model__min_samples_split': 20, 'model__n_estimators': 14}         0.504076        0.038587               36\n",
      "20    {'model__max_depth': 100, 'model__max_features': 'sqrt', 'model__min_samples_leaf': 5, 'model__min_samples_split': 2, 'model__n_estimators': 96}         0.503841        0.027954               37\n",
      "49    {'model__max_depth': None, 'model__max_features': None, 'model__min_samples_leaf': 3, 'model__min_samples_split': 18, 'model__n_estimators': 96}         0.503833        0.029045               38\n",
      "17  {'model__max_depth': None, 'model__max_features': 'sqrt', 'model__min_samples_leaf': 5, 'model__min_samples_split': 13, 'model__n_estimators': 12}         0.503680        0.033837               39\n",
      "4     {'model__max_depth': 30, 'model__max_features': 'log2', 'model__min_samples_leaf': 3, 'model__min_samples_split': 14, 'model__n_estimators': 31}         0.503422        0.033287               40\n",
      "8       {'model__max_depth': 20, 'model__max_features': None, 'model__min_samples_leaf': 1, 'model__min_samples_split': 16, 'model__n_estimators': 83}         0.502859        0.031326               41\n",
      "7      {'model__max_depth': 50, 'model__max_features': 'log2', 'model__min_samples_leaf': 4, 'model__min_samples_split': 9, 'model__n_estimators': 67}         0.502173        0.028682               42\n",
      "34    {'model__max_depth': None, 'model__max_features': None, 'model__min_samples_leaf': 3, 'model__min_samples_split': 13, 'model__n_estimators': 19}         0.501912        0.033369               43\n",
      "42   {'model__max_depth': 100, 'model__max_features': 'sqrt', 'model__min_samples_leaf': 3, 'model__min_samples_split': 11, 'model__n_estimators': 99}         0.501502        0.029595               44\n",
      "39     {'model__max_depth': 100, 'model__max_features': None, 'model__min_samples_leaf': 1, 'model__min_samples_split': 13, 'model__n_estimators': 11}         0.498172        0.036490               45\n",
      "46   {'model__max_depth': 40, 'model__max_features': 'sqrt', 'model__min_samples_leaf': 2, 'model__min_samples_split': 11, 'model__n_estimators': 100}         0.497650        0.028336               46\n",
      "11     {'model__max_depth': None, 'model__max_features': None, 'model__min_samples_leaf': 3, 'model__min_samples_split': 2, 'model__n_estimators': 10}         0.497616        0.033769               47\n",
      "6      {'model__max_depth': 40, 'model__max_features': 'sqrt', 'model__min_samples_leaf': 3, 'model__min_samples_split': 3, 'model__n_estimators': 92}         0.496685        0.026414               48\n",
      "14    {'model__max_depth': 100, 'model__max_features': 'sqrt', 'model__min_samples_leaf': 1, 'model__min_samples_split': 6, 'model__n_estimators': 70}         0.487744        0.027038               49\n",
      "32       {'model__max_depth': 90, 'model__max_features': None, 'model__min_samples_leaf': 2, 'model__min_samples_split': 2, 'model__n_estimators': 13}         0.486645        0.033680               50\n"
     ]
    },
    {
     "name": "stderr",
     "output_type": "stream",
     "text": [
      "\n",
      "\n"
     ]
    },
    {
     "name": "stdout",
     "output_type": "stream",
     "text": [
      "Fitting 50 folds for each of 1 candidates, totalling 50 fits\n",
      "Fitting 50 folds for each of 1 candidates, totalling 50 fits\n",
      "Fitting 50 folds for each of 1 candidates, totalling 50 fits\n",
      "Fitting 50 folds for each of 1 candidates, totalling 50 fits\n",
      "Fitting 50 folds for each of 1 candidates, totalling 50 fits\n",
      "Fitting 50 folds for each of 1 candidates, totalling 50 fits\n",
      "Fitting 50 folds for each of 1 candidates, totalling 50 fits\n",
      "Fitting 50 folds for each of 1 candidates, totalling 50 fits\n",
      "Fitting 50 folds for each of 1 candidates, totalling 50 fits\n",
      "Fitting 50 folds for each of 1 candidates, totalling 50 fits\n",
      "Fitting 50 folds for each of 1 candidates, totalling 50 fits\n",
      "Fitting 50 folds for each of 1 candidates, totalling 50 fits\n",
      "Fitting 50 folds for each of 1 candidates, totalling 50 fits\n",
      "Fitting 50 folds for each of 1 candidates, totalling 50 fits\n",
      "Fitting 50 folds for each of 1 candidates, totalling 50 fits\n",
      "Fitting 50 folds for each of 1 candidates, totalling 50 fits\n",
      "Fitting 50 folds for each of 1 candidates, totalling 50 fits\n",
      "Fitting 50 folds for each of 1 candidates, totalling 50 fits\n",
      "Fitting 50 folds for each of 1 candidates, totalling 50 fits\n",
      "Fitting 50 folds for each of 1 candidates, totalling 50 fits\n",
      "Fitting 50 folds for each of 1 candidates, totalling 50 fits\n",
      "Fitting 50 folds for each of 1 candidates, totalling 50 fits\n",
      "Fitting 50 folds for each of 1 candidates, totalling 50 fits\n",
      "Fitting 50 folds for each of 1 candidates, totalling 50 fits\n",
      "Fitting 50 folds for each of 1 candidates, totalling 50 fits\n",
      "Fitting 50 folds for each of 1 candidates, totalling 50 fits\n",
      "Fitting 50 folds for each of 1 candidates, totalling 50 fits\n",
      "Fitting 50 folds for each of 1 candidates, totalling 50 fits\n",
      "Fitting 50 folds for each of 1 candidates, totalling 50 fits\n",
      "Fitting 50 folds for each of 1 candidates, totalling 50 fits\n",
      "Fitting 50 folds for each of 1 candidates, totalling 50 fits\n",
      "Fitting 50 folds for each of 1 candidates, totalling 50 fits\n",
      "Fitting 50 folds for each of 1 candidates, totalling 50 fits\n",
      "Fitting 50 folds for each of 1 candidates, totalling 50 fits\n",
      "Fitting 50 folds for each of 1 candidates, totalling 50 fits\n",
      "Fitting 50 folds for each of 1 candidates, totalling 50 fits\n",
      "Fitting 50 folds for each of 1 candidates, totalling 50 fits\n",
      "Fitting 50 folds for each of 1 candidates, totalling 50 fits\n",
      "Fitting 50 folds for each of 1 candidates, totalling 50 fits\n",
      "Fitting 50 folds for each of 1 candidates, totalling 50 fits\n",
      "Fitting 50 folds for each of 1 candidates, totalling 50 fits\n",
      "Fitting 50 folds for each of 1 candidates, totalling 50 fits\n",
      "Fitting 50 folds for each of 1 candidates, totalling 50 fits\n",
      "Fitting 50 folds for each of 1 candidates, totalling 50 fits\n"
     ]
    },
    {
     "name": "stderr",
     "output_type": "stream",
     "text": [
      "/home/andrea/anaconda3/lib/python3.7/site-packages/skopt/optimizer/optimizer.py:449: UserWarning: The objective has been evaluated at this point before.\n",
      "  warnings.warn(\"The objective has been evaluated \"\n"
     ]
    },
    {
     "name": "stdout",
     "output_type": "stream",
     "text": [
      "Fitting 50 folds for each of 1 candidates, totalling 50 fits\n"
     ]
    },
    {
     "name": "stderr",
     "output_type": "stream",
     "text": [
      "/home/andrea/anaconda3/lib/python3.7/site-packages/skopt/optimizer/optimizer.py:449: UserWarning: The objective has been evaluated at this point before.\n",
      "  warnings.warn(\"The objective has been evaluated \"\n"
     ]
    },
    {
     "name": "stdout",
     "output_type": "stream",
     "text": [
      "Fitting 50 folds for each of 1 candidates, totalling 50 fits\n",
      "Fitting 50 folds for each of 1 candidates, totalling 50 fits\n",
      "Fitting 50 folds for each of 1 candidates, totalling 50 fits\n",
      "Fitting 50 folds for each of 1 candidates, totalling 50 fits\n",
      "Fitting 50 folds for each of 1 candidates, totalling 50 fits\n"
     ]
    },
    {
     "name": "stderr",
     "output_type": "stream",
     "text": [
      "Scoring: recall\n",
      "Best score: 0.5342173038229376\n",
      "best params: OrderedDict([('model__max_depth', 10), ('model__max_features', 'log2'), ('model__min_samples_leaf', 1), ('model__min_samples_split', 18), ('model__n_estimators', 10)])\n",
      "CV results:\n",
      "                                                                                                                                                 params  mean_test_score  std_test_score  rank_test_score\n",
      "14     {'model__max_depth': 10, 'model__max_features': 'log2', 'model__min_samples_leaf': 1, 'model__min_samples_split': 18, 'model__n_estimators': 10}         0.534217        0.078519                1\n",
      "21        {'model__max_depth': 10, 'model__max_features': None, 'model__min_samples_leaf': 4, 'model__min_samples_split': 8, 'model__n_estimators': 10}         0.532761        0.064203                2\n",
      "11      {'model__max_depth': 10, 'model__max_features': 'sqrt', 'model__min_samples_leaf': 5, 'model__min_samples_split': 3, 'model__n_estimators': 10}         0.532507        0.062362                3\n",
      "18      {'model__max_depth': 10, 'model__max_features': 'log2', 'model__min_samples_leaf': 1, 'model__min_samples_split': 6, 'model__n_estimators': 10}         0.525775        0.073056                4\n",
      "30     {'model__max_depth': None, 'model__max_features': None, 'model__min_samples_leaf': 5, 'model__min_samples_split': 11, 'model__n_estimators': 10}         0.525412        0.061821                5\n",
      "47   {'model__max_depth': None, 'model__max_features': 'log2', 'model__min_samples_leaf': 5, 'model__min_samples_split': 16, 'model__n_estimators': 10}         0.522270        0.062064                6\n",
      "38      {'model__max_depth': 100, 'model__max_features': None, 'model__min_samples_leaf': 5, 'model__min_samples_split': 13, 'model__n_estimators': 11}         0.521412        0.060176                7\n",
      "27    {'model__max_depth': 100, 'model__max_features': 'log2', 'model__min_samples_leaf': 5, 'model__min_samples_split': 13, 'model__n_estimators': 11}         0.521412        0.060176                7\n",
      "49   {'model__max_depth': None, 'model__max_features': 'log2', 'model__min_samples_leaf': 5, 'model__min_samples_split': 13, 'model__n_estimators': 10}         0.521408        0.064317                9\n",
      "23     {'model__max_depth': 20, 'model__max_features': 'sqrt', 'model__min_samples_leaf': 4, 'model__min_samples_split': 20, 'model__n_estimators': 10}         0.521400        0.073992               10\n",
      "10        {'model__max_depth': 10, 'model__max_features': None, 'model__min_samples_leaf': 4, 'model__min_samples_split': 4, 'model__n_estimators': 20}         0.521135        0.051696               11\n",
      "37      {'model__max_depth': None, 'model__max_features': None, 'model__min_samples_leaf': 5, 'model__min_samples_split': 7, 'model__n_estimators': 10}         0.520266        0.059733               12\n",
      "29    {'model__max_depth': None, 'model__max_features': 'log2', 'model__min_samples_leaf': 5, 'model__min_samples_split': 5, 'model__n_estimators': 10}         0.520266        0.059733               12\n",
      "43      {'model__max_depth': None, 'model__max_features': None, 'model__min_samples_leaf': 5, 'model__min_samples_split': 2, 'model__n_estimators': 10}         0.520266        0.059733               12\n",
      "45      {'model__max_depth': None, 'model__max_features': None, 'model__min_samples_leaf': 5, 'model__min_samples_split': 2, 'model__n_estimators': 10}         0.520266        0.059733               12\n",
      "44      {'model__max_depth': None, 'model__max_features': None, 'model__min_samples_leaf': 5, 'model__min_samples_split': 2, 'model__n_estimators': 10}         0.520266        0.059733               12\n",
      "12    {'model__max_depth': None, 'model__max_features': 'log2', 'model__min_samples_leaf': 5, 'model__min_samples_split': 2, 'model__n_estimators': 10}         0.520266        0.059733               12\n",
      "26     {'model__max_depth': None, 'model__max_features': None, 'model__min_samples_leaf': 5, 'model__min_samples_split': 20, 'model__n_estimators': 10}         0.519686        0.071027               18\n",
      "46      {'model__max_depth': 100, 'model__max_features': None, 'model__min_samples_leaf': 5, 'model__min_samples_split': 18, 'model__n_estimators': 11}         0.518857        0.064727               19\n",
      "48       {'model__max_depth': 10, 'model__max_features': None, 'model__min_samples_leaf': 1, 'model__min_samples_split': 3, 'model__n_estimators': 100}         0.517404        0.047465               20\n",
      "31   {'model__max_depth': None, 'model__max_features': 'log2', 'model__min_samples_leaf': 5, 'model__min_samples_split': 11, 'model__n_estimators': 21}         0.514571        0.051983               21\n",
      "28    {'model__max_depth': 100, 'model__max_features': 'log2', 'model__min_samples_leaf': 5, 'model__min_samples_split': 19, 'model__n_estimators': 12}         0.514258        0.058849               22\n",
      "17        {'model__max_depth': 60, 'model__max_features': None, 'model__min_samples_leaf': 3, 'model__min_samples_split': 7, 'model__n_estimators': 10}         0.512318        0.065699               23\n",
      "42   {'model__max_depth': None, 'model__max_features': 'log2', 'model__min_samples_leaf': 2, 'model__min_samples_split': 10, 'model__n_estimators': 10}         0.512286        0.060655               24\n",
      "9        {'model__max_depth': 10, 'model__max_features': None, 'model__min_samples_leaf': 2, 'model__min_samples_split': 20, 'model__n_estimators': 74}         0.509738        0.050721               25\n",
      "41       {'model__max_depth': 100, 'model__max_features': None, 'model__min_samples_leaf': 5, 'model__min_samples_split': 7, 'model__n_estimators': 43}         0.509678        0.047235               26\n",
      "19    {'model__max_depth': 100, 'model__max_features': 'log2', 'model__min_samples_leaf': 2, 'model__min_samples_split': 12, 'model__n_estimators': 10}         0.509469        0.064185               27\n",
      "40     {'model__max_depth': None, 'model__max_features': None, 'model__min_samples_leaf': 5, 'model__min_samples_split': 18, 'model__n_estimators': 26}         0.508841        0.056254               28\n",
      "35    {'model__max_depth': 100, 'model__max_features': 'log2', 'model__min_samples_leaf': 5, 'model__min_samples_split': 15, 'model__n_estimators': 25}         0.508559        0.053715               29\n",
      "33    {'model__max_depth': 100, 'model__max_features': 'sqrt', 'model__min_samples_leaf': 1, 'model__min_samples_split': 16, 'model__n_estimators': 10}         0.507465        0.065058               30\n",
      "34    {'model__max_depth': None, 'model__max_features': 'sqrt', 'model__min_samples_leaf': 5, 'model__min_samples_split': 8, 'model__n_estimators': 50}         0.505412        0.049948               31\n",
      "25   {'model__max_depth': None, 'model__max_features': 'sqrt', 'model__min_samples_leaf': 1, 'model__min_samples_split': 17, 'model__n_estimators': 10}         0.505179        0.066106               32\n",
      "5      {'model__max_depth': 80, 'model__max_features': 'sqrt', 'model__min_samples_leaf': 4, 'model__min_samples_split': 11, 'model__n_estimators': 32}         0.504825        0.044116               33\n",
      "3      {'model__max_depth': 90, 'model__max_features': 'sqrt', 'model__min_samples_leaf': 2, 'model__min_samples_split': 19, 'model__n_estimators': 21}         0.504040        0.052119               34\n",
      "22     {'model__max_depth': 100, 'model__max_features': 'log2', 'model__min_samples_leaf': 5, 'model__min_samples_split': 7, 'model__n_estimators': 60}         0.502563        0.048202               35\n",
      "13     {'model__max_depth': None, 'model__max_features': None, 'model__min_samples_leaf': 5, 'model__min_samples_split': 15, 'model__n_estimators': 93}         0.502270        0.051165               36\n",
      "4      {'model__max_depth': 30, 'model__max_features': 'log2', 'model__min_samples_leaf': 3, 'model__min_samples_split': 14, 'model__n_estimators': 31}         0.502024        0.051458               37\n",
      "15   {'model__max_depth': 100, 'model__max_features': 'log2', 'model__min_samples_leaf': 4, 'model__min_samples_split': 17, 'model__n_estimators': 100}         0.501730        0.046301               38\n",
      "32     {'model__max_depth': 100, 'model__max_features': 'sqrt', 'model__min_samples_leaf': 5, 'model__min_samples_split': 4, 'model__n_estimators': 81}         0.500853        0.047292               39\n",
      "2      {'model__max_depth': 30, 'model__max_features': 'log2', 'model__min_samples_leaf': 1, 'model__min_samples_split': 17, 'model__n_estimators': 21}         0.500056        0.051750               40\n",
      "36  {'model__max_depth': None, 'model__max_features': 'log2', 'model__min_samples_leaf': 5, 'model__min_samples_split': 19, 'model__n_estimators': 100}         0.498000        0.052458               41\n",
      "7       {'model__max_depth': 50, 'model__max_features': 'log2', 'model__min_samples_leaf': 4, 'model__min_samples_split': 9, 'model__n_estimators': 67}         0.497718        0.043832               42\n",
      "39    {'model__max_depth': 100, 'model__max_features': 'sqrt', 'model__min_samples_leaf': 1, 'model__min_samples_split': 18, 'model__n_estimators': 64}         0.496322        0.052691               43\n",
      "8        {'model__max_depth': 20, 'model__max_features': None, 'model__min_samples_leaf': 1, 'model__min_samples_split': 16, 'model__n_estimators': 83}         0.495199        0.051760               44\n",
      "1      {'model__max_depth': 40, 'model__max_features': 'sqrt', 'model__min_samples_leaf': 4, 'model__min_samples_split': 20, 'model__n_estimators': 68}         0.495167        0.051374               45\n",
      "0      {'model__max_depth': 40, 'model__max_features': 'log2', 'model__min_samples_leaf': 2, 'model__min_samples_split': 17, 'model__n_estimators': 74}         0.494901        0.051889               46\n",
      "6       {'model__max_depth': 40, 'model__max_features': 'sqrt', 'model__min_samples_leaf': 3, 'model__min_samples_split': 3, 'model__n_estimators': 92}         0.492901        0.052827               47\n",
      "16      {'model__max_depth': 70, 'model__max_features': None, 'model__min_samples_leaf': 1, 'model__min_samples_split': 12, 'model__n_estimators': 100}         0.490636        0.054728               48\n",
      "20    {'model__max_depth': None, 'model__max_features': 'log2', 'model__min_samples_leaf': 2, 'model__min_samples_split': 6, 'model__n_estimators': 41}         0.484394        0.051035               49\n",
      "24        {'model__max_depth': 60, 'model__max_features': None, 'model__min_samples_leaf': 1, 'model__min_samples_split': 5, 'model__n_estimators': 40}         0.481018        0.057668               50\n"
     ]
    },
    {
     "name": "stderr",
     "output_type": "stream",
     "text": [
      "\n",
      "\n",
      "/home/andrea/anaconda3/lib/python3.7/site-packages/pandas/core/series.py:4569: SettingWithCopyWarning: \n",
      "A value is trying to be set on a copy of a slice from a DataFrame\n",
      "\n",
      "See the caveats in the documentation: https://pandas.pydata.org/pandas-docs/stable/user_guide/indexing.html#returning-a-view-versus-a-copy\n",
      "  method=method,\n"
     ]
    },
    {
     "name": "stdout",
     "output_type": "stream",
     "text": [
      "Fitting 50 folds for each of 1 candidates, totalling 50 fits\n",
      "Fitting 50 folds for each of 1 candidates, totalling 50 fits\n",
      "Fitting 50 folds for each of 1 candidates, totalling 50 fits\n",
      "Fitting 50 folds for each of 1 candidates, totalling 50 fits\n",
      "Fitting 50 folds for each of 1 candidates, totalling 50 fits\n",
      "Fitting 50 folds for each of 1 candidates, totalling 50 fits\n",
      "Fitting 50 folds for each of 1 candidates, totalling 50 fits\n",
      "Fitting 50 folds for each of 1 candidates, totalling 50 fits\n",
      "Fitting 50 folds for each of 1 candidates, totalling 50 fits\n",
      "Fitting 50 folds for each of 1 candidates, totalling 50 fits\n",
      "Fitting 50 folds for each of 1 candidates, totalling 50 fits\n",
      "Fitting 50 folds for each of 1 candidates, totalling 50 fits\n",
      "Fitting 50 folds for each of 1 candidates, totalling 50 fits\n",
      "Fitting 50 folds for each of 1 candidates, totalling 50 fits\n",
      "Fitting 50 folds for each of 1 candidates, totalling 50 fits\n",
      "Fitting 50 folds for each of 1 candidates, totalling 50 fits\n",
      "Fitting 50 folds for each of 1 candidates, totalling 50 fits\n",
      "Fitting 50 folds for each of 1 candidates, totalling 50 fits\n",
      "Fitting 50 folds for each of 1 candidates, totalling 50 fits\n",
      "Fitting 50 folds for each of 1 candidates, totalling 50 fits\n",
      "Fitting 50 folds for each of 1 candidates, totalling 50 fits\n",
      "Fitting 50 folds for each of 1 candidates, totalling 50 fits\n",
      "Fitting 50 folds for each of 1 candidates, totalling 50 fits\n",
      "Fitting 50 folds for each of 1 candidates, totalling 50 fits\n",
      "Fitting 50 folds for each of 1 candidates, totalling 50 fits\n",
      "Fitting 50 folds for each of 1 candidates, totalling 50 fits\n",
      "Fitting 50 folds for each of 1 candidates, totalling 50 fits\n",
      "Fitting 50 folds for each of 1 candidates, totalling 50 fits\n",
      "Fitting 50 folds for each of 1 candidates, totalling 50 fits\n",
      "Fitting 50 folds for each of 1 candidates, totalling 50 fits\n",
      "Fitting 50 folds for each of 1 candidates, totalling 50 fits\n",
      "Fitting 50 folds for each of 1 candidates, totalling 50 fits\n",
      "Fitting 50 folds for each of 1 candidates, totalling 50 fits\n",
      "Fitting 50 folds for each of 1 candidates, totalling 50 fits\n",
      "Fitting 50 folds for each of 1 candidates, totalling 50 fits\n",
      "Fitting 50 folds for each of 1 candidates, totalling 50 fits\n",
      "Fitting 50 folds for each of 1 candidates, totalling 50 fits\n"
     ]
    },
    {
     "name": "stderr",
     "output_type": "stream",
     "text": [
      "/home/andrea/anaconda3/lib/python3.7/site-packages/skopt/optimizer/optimizer.py:449: UserWarning: The objective has been evaluated at this point before.\n",
      "  warnings.warn(\"The objective has been evaluated \"\n"
     ]
    },
    {
     "name": "stdout",
     "output_type": "stream",
     "text": [
      "Fitting 50 folds for each of 1 candidates, totalling 50 fits\n"
     ]
    },
    {
     "name": "stderr",
     "output_type": "stream",
     "text": [
      "/home/andrea/anaconda3/lib/python3.7/site-packages/skopt/optimizer/optimizer.py:449: UserWarning: The objective has been evaluated at this point before.\n",
      "  warnings.warn(\"The objective has been evaluated \"\n"
     ]
    },
    {
     "name": "stdout",
     "output_type": "stream",
     "text": [
      "Fitting 50 folds for each of 1 candidates, totalling 50 fits\n",
      "Fitting 50 folds for each of 1 candidates, totalling 50 fits\n"
     ]
    },
    {
     "name": "stderr",
     "output_type": "stream",
     "text": [
      "/home/andrea/anaconda3/lib/python3.7/site-packages/skopt/optimizer/optimizer.py:449: UserWarning: The objective has been evaluated at this point before.\n",
      "  warnings.warn(\"The objective has been evaluated \"\n"
     ]
    },
    {
     "name": "stdout",
     "output_type": "stream",
     "text": [
      "Fitting 50 folds for each of 1 candidates, totalling 50 fits\n",
      "Fitting 50 folds for each of 1 candidates, totalling 50 fits\n",
      "Fitting 50 folds for each of 1 candidates, totalling 50 fits\n",
      "Fitting 50 folds for each of 1 candidates, totalling 50 fits\n",
      "Fitting 50 folds for each of 1 candidates, totalling 50 fits\n",
      "Fitting 50 folds for each of 1 candidates, totalling 50 fits\n",
      "Fitting 50 folds for each of 1 candidates, totalling 50 fits\n"
     ]
    },
    {
     "name": "stderr",
     "output_type": "stream",
     "text": [
      "/home/andrea/anaconda3/lib/python3.7/site-packages/skopt/optimizer/optimizer.py:449: UserWarning: The objective has been evaluated at this point before.\n",
      "  warnings.warn(\"The objective has been evaluated \"\n"
     ]
    },
    {
     "name": "stdout",
     "output_type": "stream",
     "text": [
      "Fitting 50 folds for each of 1 candidates, totalling 50 fits\n",
      "Fitting 50 folds for each of 1 candidates, totalling 50 fits\n",
      "Fitting 50 folds for each of 1 candidates, totalling 50 fits\n"
     ]
    },
    {
     "name": "stderr",
     "output_type": "stream",
     "text": [
      "Scoring: accuracy\n",
      "Best score: 0.5260056683986774\n",
      "best params: OrderedDict([('model__max_depth', 20), ('model__max_features', 'log2'), ('model__min_samples_leaf', 1), ('model__min_samples_split', 2), ('model__n_estimators', 10)])\n",
      "CV results:\n",
      "                                                                                                                                                params  mean_test_score  std_test_score  rank_test_score\n",
      "47     {'model__max_depth': 20, 'model__max_features': 'log2', 'model__min_samples_leaf': 1, 'model__min_samples_split': 2, 'model__n_estimators': 10}         0.526006        0.041234                1\n",
      "28     {'model__max_depth': 20, 'model__max_features': 'log2', 'model__min_samples_leaf': 1, 'model__min_samples_split': 2, 'model__n_estimators': 10}         0.526006        0.041234                1\n",
      "29       {'model__max_depth': 30, 'model__max_features': None, 'model__min_samples_leaf': 1, 'model__min_samples_split': 2, 'model__n_estimators': 17}         0.524092        0.039297                3\n",
      "25     {'model__max_depth': 30, 'model__max_features': 'log2', 'model__min_samples_leaf': 1, 'model__min_samples_split': 2, 'model__n_estimators': 14}         0.523681        0.037985                4\n",
      "17     {'model__max_depth': 70, 'model__max_features': 'sqrt', 'model__min_samples_leaf': 1, 'model__min_samples_split': 2, 'model__n_estimators': 15}         0.523673        0.038410                5\n",
      "37    {'model__max_depth': 100, 'model__max_features': 'log2', 'model__min_samples_leaf': 1, 'model__min_samples_split': 2, 'model__n_estimators': 10}         0.522723        0.040043                6\n",
      "48     {'model__max_depth': 80, 'model__max_features': 'log2', 'model__min_samples_leaf': 1, 'model__min_samples_split': 2, 'model__n_estimators': 10}         0.522723        0.040043                6\n",
      "23   {'model__max_depth': None, 'model__max_features': 'log2', 'model__min_samples_leaf': 1, 'model__min_samples_split': 2, 'model__n_estimators': 10}         0.522723        0.040043                6\n",
      "35    {'model__max_depth': 100, 'model__max_features': 'log2', 'model__min_samples_leaf': 1, 'model__min_samples_split': 2, 'model__n_estimators': 10}         0.522723        0.040043                6\n",
      "31     {'model__max_depth': 70, 'model__max_features': 'log2', 'model__min_samples_leaf': 1, 'model__min_samples_split': 2, 'model__n_estimators': 10}         0.522723        0.040043                6\n",
      "40   {'model__max_depth': None, 'model__max_features': 'log2', 'model__min_samples_leaf': 1, 'model__min_samples_split': 2, 'model__n_estimators': 10}         0.522723        0.040043                6\n",
      "38    {'model__max_depth': 100, 'model__max_features': 'log2', 'model__min_samples_leaf': 1, 'model__min_samples_split': 2, 'model__n_estimators': 10}         0.522723        0.040043                6\n",
      "42    {'model__max_depth': None, 'model__max_features': None, 'model__min_samples_leaf': 2, 'model__min_samples_split': 7, 'model__n_estimators': 100}         0.522587        0.041988               13\n",
      "11  {'model__max_depth': None, 'model__max_features': 'log2', 'model__min_samples_leaf': 1, 'model__min_samples_split': 2, 'model__n_estimators': 100}         0.522300        0.037967               14\n",
      "12       {'model__max_depth': 90, 'model__max_features': None, 'model__min_samples_leaf': 1, 'model__min_samples_split': 2, 'model__n_estimators': 99}         0.522300        0.037967               14\n",
      "19     {'model__max_depth': 40, 'model__max_features': 'log2', 'model__min_samples_leaf': 1, 'model__min_samples_split': 2, 'model__n_estimators': 84}         0.522162        0.037923               16\n",
      "36     {'model__max_depth': 90, 'model__max_features': 'log2', 'model__min_samples_leaf': 2, 'model__min_samples_split': 7, 'model__n_estimators': 15}         0.520910        0.036001               17\n",
      "22    {'model__max_depth': 100, 'model__max_features': 'log2', 'model__min_samples_leaf': 2, 'model__min_samples_split': 2, 'model__n_estimators': 15}         0.519548        0.036625               18\n",
      "10  {'model__max_depth': None, 'model__max_features': 'log2', 'model__min_samples_leaf': 2, 'model__min_samples_split': 10, 'model__n_estimators': 84}         0.519416        0.041631               19\n",
      "46     {'model__max_depth': 30, 'model__max_features': 'log2', 'model__min_samples_leaf': 2, 'model__min_samples_split': 4, 'model__n_estimators': 99}         0.519146        0.041005               20\n",
      "49     {'model__max_depth': 20, 'model__max_features': 'log2', 'model__min_samples_leaf': 1, 'model__min_samples_split': 9, 'model__n_estimators': 98}         0.518872        0.042943               21\n",
      "41   {'model__max_depth': 100, 'model__max_features': 'log2', 'model__min_samples_leaf': 1, 'model__min_samples_split': 13, 'model__n_estimators': 98}         0.517609        0.036721               22\n",
      "26       {'model__max_depth': 10, 'model__max_features': None, 'model__min_samples_leaf': 2, 'model__min_samples_split': 2, 'model__n_estimators': 11}         0.517356        0.034151               23\n",
      "13   {'model__max_depth': 100, 'model__max_features': 'log2', 'model__min_samples_leaf': 1, 'model__min_samples_split': 5, 'model__n_estimators': 100}         0.516114        0.036212               24\n",
      "6      {'model__max_depth': 40, 'model__max_features': 'sqrt', 'model__min_samples_leaf': 3, 'model__min_samples_split': 3, 'model__n_estimators': 92}         0.516114        0.037947               25\n",
      "2     {'model__max_depth': 30, 'model__max_features': 'log2', 'model__min_samples_leaf': 1, 'model__min_samples_split': 17, 'model__n_estimators': 21}         0.516111        0.036583               26\n",
      "33      {'model__max_depth': 100, 'model__max_features': None, 'model__min_samples_leaf': 3, 'model__min_samples_split': 7, 'model__n_estimators': 10}         0.515981        0.036976               27\n",
      "21     {'model__max_depth': 40, 'model__max_features': 'sqrt', 'model__min_samples_leaf': 1, 'model__min_samples_split': 5, 'model__n_estimators': 69}         0.515846        0.039488               28\n",
      "14       {'model__max_depth': 10, 'model__max_features': None, 'model__min_samples_leaf': 1, 'model__min_samples_split': 2, 'model__n_estimators': 99}         0.515717        0.043686               29\n",
      "16      {'model__max_depth': 100, 'model__max_features': None, 'model__min_samples_leaf': 3, 'model__min_samples_split': 2, 'model__n_estimators': 97}         0.515566        0.040229               30\n",
      "8       {'model__max_depth': 20, 'model__max_features': None, 'model__min_samples_leaf': 1, 'model__min_samples_split': 16, 'model__n_estimators': 83}         0.515277        0.038524               31\n",
      "32      {'model__max_depth': 90, 'model__max_features': None, 'model__min_samples_leaf': 1, 'model__min_samples_split': 10, 'model__n_estimators': 12}         0.513922        0.038581               32\n",
      "0     {'model__max_depth': 40, 'model__max_features': 'log2', 'model__min_samples_leaf': 2, 'model__min_samples_split': 17, 'model__n_estimators': 74}         0.513342        0.033845               33\n",
      "43    {'model__max_depth': 50, 'model__max_features': 'log2', 'model__min_samples_leaf': 3, 'model__min_samples_split': 10, 'model__n_estimators': 99}         0.512105        0.041301               34\n",
      "4     {'model__max_depth': 30, 'model__max_features': 'log2', 'model__min_samples_leaf': 3, 'model__min_samples_split': 14, 'model__n_estimators': 31}         0.511141        0.035845               35\n",
      "18     {'model__max_depth': 100, 'model__max_features': None, 'model__min_samples_leaf': 1, 'model__min_samples_split': 19, 'model__n_estimators': 55}         0.510598        0.039566               36\n",
      "39    {'model__max_depth': None, 'model__max_features': None, 'model__min_samples_leaf': 2, 'model__min_samples_split': 13, 'model__n_estimators': 10}         0.509091        0.037049               37\n",
      "3     {'model__max_depth': 90, 'model__max_features': 'sqrt', 'model__min_samples_leaf': 2, 'model__min_samples_split': 19, 'model__n_estimators': 21}         0.508946        0.035892               38\n",
      "9       {'model__max_depth': 10, 'model__max_features': None, 'model__min_samples_leaf': 2, 'model__min_samples_split': 20, 'model__n_estimators': 74}         0.508931        0.040341               39\n",
      "7      {'model__max_depth': 50, 'model__max_features': 'log2', 'model__min_samples_leaf': 4, 'model__min_samples_split': 9, 'model__n_estimators': 67}         0.508257        0.038149               40\n",
      "45     {'model__max_depth': 30, 'model__max_features': 'sqrt', 'model__min_samples_leaf': 4, 'model__min_samples_split': 2, 'model__n_estimators': 11}         0.507860        0.039112               41\n",
      "27    {'model__max_depth': 10, 'model__max_features': 'log2', 'model__min_samples_leaf': 1, 'model__min_samples_split': 20, 'model__n_estimators': 95}         0.507835        0.039008               42\n",
      "5     {'model__max_depth': 80, 'model__max_features': 'sqrt', 'model__min_samples_leaf': 4, 'model__min_samples_split': 11, 'model__n_estimators': 32}         0.507291        0.034634               43\n",
      "30    {'model__max_depth': 20, 'model__max_features': 'sqrt', 'model__min_samples_leaf': 5, 'model__min_samples_split': 20, 'model__n_estimators': 10}         0.507279        0.033130               44\n",
      "20   {'model__max_depth': None, 'model__max_features': 'log2', 'model__min_samples_leaf': 5, 'model__min_samples_split': 3, 'model__n_estimators': 29}         0.506322        0.034713               45\n",
      "15     {'model__max_depth': None, 'model__max_features': None, 'model__min_samples_leaf': 5, 'model__min_samples_split': 2, 'model__n_estimators': 62}         0.506047        0.040203               46\n",
      "44       {'model__max_depth': 60, 'model__max_features': None, 'model__min_samples_leaf': 5, 'model__min_samples_split': 8, 'model__n_estimators': 14}         0.504675        0.032758               47\n",
      "24    {'model__max_depth': 90, 'model__max_features': 'log2', 'model__min_samples_leaf': 5, 'model__min_samples_split': 20, 'model__n_estimators': 91}         0.504402        0.037470               48\n",
      "1     {'model__max_depth': 40, 'model__max_features': 'sqrt', 'model__min_samples_leaf': 4, 'model__min_samples_split': 20, 'model__n_estimators': 68}         0.503301        0.038918               49\n",
      "34    {'model__max_depth': 70, 'model__max_features': 'sqrt', 'model__min_samples_leaf': 5, 'model__min_samples_split': 13, 'model__n_estimators': 99}         0.503300        0.036937               50\n"
     ]
    },
    {
     "name": "stderr",
     "output_type": "stream",
     "text": [
      "\n",
      "\n"
     ]
    },
    {
     "name": "stdout",
     "output_type": "stream",
     "text": [
      "Fitting 50 folds for each of 1 candidates, totalling 50 fits\n",
      "Fitting 50 folds for each of 1 candidates, totalling 50 fits\n",
      "Fitting 50 folds for each of 1 candidates, totalling 50 fits\n",
      "Fitting 50 folds for each of 1 candidates, totalling 50 fits\n",
      "Fitting 50 folds for each of 1 candidates, totalling 50 fits\n",
      "Fitting 50 folds for each of 1 candidates, totalling 50 fits\n",
      "Fitting 50 folds for each of 1 candidates, totalling 50 fits\n",
      "Fitting 50 folds for each of 1 candidates, totalling 50 fits\n",
      "Fitting 50 folds for each of 1 candidates, totalling 50 fits\n",
      "Fitting 50 folds for each of 1 candidates, totalling 50 fits\n",
      "Fitting 50 folds for each of 1 candidates, totalling 50 fits\n",
      "Fitting 50 folds for each of 1 candidates, totalling 50 fits\n",
      "Fitting 50 folds for each of 1 candidates, totalling 50 fits\n",
      "Fitting 50 folds for each of 1 candidates, totalling 50 fits\n",
      "Fitting 50 folds for each of 1 candidates, totalling 50 fits\n",
      "Fitting 50 folds for each of 1 candidates, totalling 50 fits\n",
      "Fitting 50 folds for each of 1 candidates, totalling 50 fits\n",
      "Fitting 50 folds for each of 1 candidates, totalling 50 fits\n",
      "Fitting 50 folds for each of 1 candidates, totalling 50 fits\n",
      "Fitting 50 folds for each of 1 candidates, totalling 50 fits\n",
      "Fitting 50 folds for each of 1 candidates, totalling 50 fits\n",
      "Fitting 50 folds for each of 1 candidates, totalling 50 fits\n",
      "Fitting 50 folds for each of 1 candidates, totalling 50 fits\n",
      "Fitting 50 folds for each of 1 candidates, totalling 50 fits\n",
      "Fitting 50 folds for each of 1 candidates, totalling 50 fits\n",
      "Fitting 50 folds for each of 1 candidates, totalling 50 fits\n",
      "Fitting 50 folds for each of 1 candidates, totalling 50 fits\n",
      "Fitting 50 folds for each of 1 candidates, totalling 50 fits\n",
      "Fitting 50 folds for each of 1 candidates, totalling 50 fits\n",
      "Fitting 50 folds for each of 1 candidates, totalling 50 fits\n",
      "Fitting 50 folds for each of 1 candidates, totalling 50 fits\n",
      "Fitting 50 folds for each of 1 candidates, totalling 50 fits\n",
      "Fitting 50 folds for each of 1 candidates, totalling 50 fits\n",
      "Fitting 50 folds for each of 1 candidates, totalling 50 fits\n",
      "Fitting 50 folds for each of 1 candidates, totalling 50 fits\n",
      "Fitting 50 folds for each of 1 candidates, totalling 50 fits\n",
      "Fitting 50 folds for each of 1 candidates, totalling 50 fits\n",
      "Fitting 50 folds for each of 1 candidates, totalling 50 fits\n",
      "Fitting 50 folds for each of 1 candidates, totalling 50 fits\n",
      "Fitting 50 folds for each of 1 candidates, totalling 50 fits\n",
      "Fitting 50 folds for each of 1 candidates, totalling 50 fits\n",
      "Fitting 50 folds for each of 1 candidates, totalling 50 fits\n",
      "Fitting 50 folds for each of 1 candidates, totalling 50 fits\n"
     ]
    }
   ],
   "source": [
    "# Set up logging\n",
    "logger = setup_logging(\"tune_random_forest\")\n",
    "\n",
    "for file_name in file_names:\n",
    "    X, y = preprocess_data(file_name)\n",
    "\n",
    "    #tune random forest\n",
    "    estimator = Pipeline([\n",
    "        #(\"preprocessor\", MinMaxScaler()),\n",
    "        (\"model\", RandomForestClassifier(random_state=1234))\n",
    "    ])\n",
    "\n",
    "    # search space\n",
    "    search_space = {\n",
    "        \"model__n_estimators\": Integer(10, 100),\n",
    "        \"model__max_depth\": Categorical([None, 10, 20, 30, 40, 50, 60, 70, 80, 90, 100]),\n",
    "        \"model__min_samples_split\": Integer(2, 20),\n",
    "        \"model__min_samples_leaf\": Integer(1, 5),\n",
    "        \"model__max_features\": Categorical([None, \"sqrt\", \"log2\"]),\n",
    "    }\n",
    "\n",
    "    # cross validation strategy\n",
    "    cv = RepeatedStratifiedKFold(n_splits=5, n_repeats=10, random_state=1234)\n",
    "\n",
    "    for score in [\"accuracy\", \"recall\"]:\n",
    "        # optimizer\n",
    "        optimizer = BayesSearchCV(\n",
    "            estimator=estimator,\n",
    "            search_spaces=search_space,\n",
    "            scoring=score,\n",
    "            cv=cv,\n",
    "            n_jobs=-1,\n",
    "            verbose=1,\n",
    "            random_state=1234\n",
    "        )\n",
    "\n",
    "        # fit\n",
    "        optimizer.fit(X, y)\n",
    "\n",
    "\n",
    "        # log best score and parameters\n",
    "        #TODO enter file_name\n",
    "        logger.info(f\"File: {file_name}\")\n",
    "        logger.info(f\"Scoring: {score}\")\n",
    "        logger.info(f\"Best score: {optimizer.best_score_}\")\n",
    "        logger.info(f\"best params: {optimizer.best_params_}\")\n",
    "        df = pd.DataFrame(optimizer.cv_results_)[[\"params\", \"mean_test_score\", \"std_test_score\", \"rank_test_score\"]]\n",
    "        logger.info(\"CV results:\")\n",
    "        logger.info(df.sort_values(\"rank_test_score\").to_string())\n",
    "        logger.info(\"\\n\")\n"
   ]
  },
  {
   "cell_type": "code",
   "execution_count": 48,
   "metadata": {},
   "outputs": [
    {
     "name": "stdout",
     "output_type": "stream",
     "text": [
      "The results for pielou_e_diversity are: accuracy 0.4840182648401826, conf.mat.:[[59 53]\n",
      " [60 47]], roc auc:0.48301902536715624, precision, recall, f1:(0.48289915966386554, 0.48301902536715624, 0.48246439550787373, None)\n",
      "The results for simpson_diversity are: accuracy 0.5251141552511416, conf.mat.:[[59 53]\n",
      " [51 56]], roc auc:0.5250751001335114, precision, recall, f1:(0.5250625521267723, 0.5250751001335113, 0.525025025025025, None)\n",
      "The results for phylum_relative are: accuracy 0.5844748858447488, conf.mat.:[[75 37]\n",
      " [54 53]], roc auc:0.5824849799732977, precision, recall, f1:(0.5851421188630491, 0.5824849799732977, 0.5802388524969986, None)\n",
      "The results for observed_otus_diversity are: accuracy 0.5525114155251142, conf.mat.:[[64 48]\n",
      " [50 57]], roc auc:0.5520694259012016, precision, recall, f1:(0.5521303258145362, 0.5520694259012016, 0.5520537652362665, None)\n",
      "The results for family_relative are: accuracy 0.730593607305936, conf.mat.:[[85 27]\n",
      " [32 75]], roc auc:0.7299315754339119, precision, recall, f1:(0.7308949220713927, 0.7299315754339119, 0.7300307139424584, None)\n",
      "The results for class_relative are: accuracy 0.6210045662100456, conf.mat.:[[81 31]\n",
      " [52 55]], roc auc:0.6186164886515353, precision, recall, f1:(0.6242787200559539, 0.6186164886515353, 0.6155863381622078, None)\n",
      "The results for fb_ratio are: accuracy 0.5118483412322274, conf.mat.:[[61 46]\n",
      " [57 47]], roc auc:0.511008267433501, precision, recall, f1:(0.5111627483141972, 0.511008267433501, 0.5096897913141568, None)\n",
      "The results for enterotype are: accuracy 0.5159817351598174, conf.mat.:[[57 55]\n",
      " [51 56]], roc auc:0.5161465287049398, precision, recall, f1:(0.5161411411411412, 0.5161465287049398, 0.5159716430358632, None)\n",
      "The results for genus_relative are: accuracy 0.7945205479452054, conf.mat.:[[88 24]\n",
      " [21 86]], roc auc:0.7947263017356475, precision, recall, f1:(0.7945788156797331, 0.7947263017356475, 0.7945034093041683, None)\n",
      "The results for species_relative are: accuracy 0.7579908675799086, conf.mat.:[[84 28]\n",
      " [25 82]], roc auc:0.758177570093458, precision, recall, f1:(0.7580483736447039, 0.7581775700934579, 0.7579706820693539, None)\n",
      "The results for shannon_diversity are: accuracy 0.4748858447488584, conf.mat.:[[48 64]\n",
      " [51 56]], roc auc:0.47596795727636854, precision, recall, f1:(0.47575757575757577, 0.4759679572763684, 0.47418418690105846, None)\n",
      "The results for domain_relative are: accuracy 0.5342465753424658, conf.mat.:[[87 25]\n",
      " [77 30]], roc auc:0.5285797730307076, precision, recall, f1:(0.5379711751662971, 0.5285797730307076, 0.500402576489533, None)\n",
      "The results for order_relative are: accuracy 0.6621004566210046, conf.mat.:[[82 30]\n",
      " [44 63]], roc auc:0.6604639519359146, precision, recall, f1:(0.6641065028161802, 0.6604639519359146, 0.6595378151260505, None)\n",
      "The results for simpson_e_diversity are: accuracy 0.5251141552511416, conf.mat.:[[60 52]\n",
      " [52 55]], roc auc:0.5248664886515353, precision, recall, f1:(0.5248664886515353, 0.5248664886515353, 0.5248664886515353, None)\n"
     ]
    }
   ],
   "source": [
    "for file_name in file_names:\n",
    "    rf_classification(file_name)"
   ]
  }
 ],
 "metadata": {
  "kernelspec": {
   "display_name": "Python 3",
   "language": "python",
   "name": "python3"
  },
  "language_info": {
   "codemirror_mode": {
    "name": "ipython",
    "version": 3
   },
   "file_extension": ".py",
   "mimetype": "text/x-python",
   "name": "python",
   "nbconvert_exporter": "python",
   "pygments_lexer": "ipython3",
   "version": "3.7.7"
  }
 },
 "nbformat": 4,
 "nbformat_minor": 4
}
